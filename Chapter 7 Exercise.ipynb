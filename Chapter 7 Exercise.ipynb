{
 "cells": [
  {
   "cell_type": "markdown",
   "id": "0d64fb3b",
   "metadata": {},
   "source": [
    "## Algorithm Workbench (Any Two Questions)"
   ]
  },
  {
   "cell_type": "markdown",
   "id": "36c51bca",
   "metadata": {},
   "source": [
    "## 5 Ex."
   ]
  },
  {
   "cell_type": "code",
   "execution_count": 2,
   "id": "07409925",
   "metadata": {},
   "outputs": [
    {
     "name": "stdout",
     "output_type": "stream",
     "text": [
      "Total: 15\n"
     ]
    }
   ],
   "source": [
    "def calculate_total(int_list):\n",
    "    total = 0  # Initialize a variable to store the total sum\n",
    "    \n",
    "    for num in int_list:\n",
    "        total += num  # Add each element in the list to the total\n",
    "    \n",
    "    return total\n",
    "\n",
    "# Example usage:\n",
    "my_list = [1, 2, 3, 4, 5]\n",
    "result = calculate_total(my_list)\n",
    "print(\"Total:\", result)"
   ]
  },
  {
   "cell_type": "markdown",
   "id": "b18161b9",
   "metadata": {},
   "source": [
    "## 11 Ex."
   ]
  },
  {
   "cell_type": "code",
   "execution_count": null,
   "id": "14bc1661",
   "metadata": {},
   "outputs": [],
   "source": [
    "# Create a 2D list with 5 rows and 3 columns, initially filled with zeros\n",
    "matrix = [[0 for _ in range(3)] for _ in range(5)]\n",
    "\n",
    "# Use nested loops to get integer values from the user\n",
    "for i in range(5):\n",
    "    for j in range(3):\n",
    "        while True:\n",
    "            try:\n",
    "                matrix[i][j] = int(input(f\"Enter an integer for element at row {i+1}, column {j+1}: \"))\n",
    "                break  # Break the loop if a valid integer is entered\n",
    "            except ValueError:\n",
    "                print(\"Invalid input. Please enter an integer.\")\n",
    "\n",
    "# Print the resulting matrix\n",
    "print(\"The 2D list:\")\n",
    "for row in matrix:\n",
    "    print(row)"
   ]
  },
  {
   "cell_type": "markdown",
   "id": "cb9c9b26",
   "metadata": {},
   "source": [
    "## Programming Exercises (Four Questions)"
   ]
  },
  {
   "cell_type": "markdown",
   "id": "d106d80a",
   "metadata": {},
   "source": [
    "## 1 Ex. "
   ]
  },
  {
   "cell_type": "code",
   "execution_count": 3,
   "id": "a3c0f50f",
   "metadata": {},
   "outputs": [
    {
     "name": "stdout",
     "output_type": "stream",
     "text": [
      "Enter sales for Monday: $29.99\n",
      "Enter sales for Tuesday: $15.99\n",
      "Enter sales for Wednesday: $80\n",
      "Enter sales for Thursday: $21.15\n",
      "Enter sales for Friday: $50\n",
      "Enter sales for Saturday: $44.75\n",
      "Enter sales for Sunday: $4.99\n",
      "Total sales for the week: $246.87\n"
     ]
    }
   ],
   "source": [
    "def main():\n",
    "    # Create an empty list to store daily sales\n",
    "    weekly_sales = []\n",
    "\n",
    "    # Define a list of days of the week\n",
    "    days_of_week = [\"Monday\", \"Tuesday\", \"Wednesday\", \"Thursday\", \"Friday\", \"Saturday\", \"Sunday\"]\n",
    "\n",
    "    # Use a loop to input sales for each day of the week\n",
    "    for day in days_of_week:\n",
    "        sales = float(input(f\"Enter sales for {day}: $\"))\n",
    "        weekly_sales.append(sales)\n",
    "\n",
    "    # Calculate the total sales for the week using the sum() function\n",
    "    total_sales = sum(weekly_sales)\n",
    "\n",
    "    # Display the total sales for the week\n",
    "    print(f\"Total sales for the week: ${total_sales:.2f}\")\n",
    "\n",
    "if __name__ == \"__main__\":\n",
    "    main()"
   ]
  },
  {
   "cell_type": "markdown",
   "id": "d833e76b",
   "metadata": {},
   "source": [
    "## 14 Ex. "
   ]
  },
  {
   "cell_type": "code",
   "execution_count": 1,
   "id": "e09ea8cc",
   "metadata": {},
   "outputs": [
    {
     "name": "stdout",
     "output_type": "stream",
     "text": [
      "Enter your Rent expense for last month: $1500\n",
      "Enter your Gas expense for last month: $3.692\n",
      "Enter your Food expense for last month: $100.99\n",
      "Enter your Clothing expense for last month: $65.99\n",
      "Enter your Car payment expense for last month: $540\n",
      "Enter your Misc expense for last month: $58.84\n",
      "Expense data has been saved to expenses.txt.\n"
     ]
    }
   ],
   "source": [
    "# Create a dictionary to store expenses\n",
    "expenses = {\n",
    "    'Rent': 0,\n",
    "    'Gas': 0,\n",
    "    'Food': 0,\n",
    "    'Clothing': 0,\n",
    "    'Car payment': 0,\n",
    "    'Misc': 0\n",
    "}\n",
    "\n",
    "# Input expenses for each category\n",
    "for category in expenses:\n",
    "    expense = float(input(f\"Enter your {category} expense for last month: $\"))\n",
    "    expenses[category] = expense\n",
    "\n",
    "# Specify the file name\n",
    "file_name = \"expenses.txt\"\n",
    "\n",
    "# Write expenses to a text file\n",
    "with open(file_name, 'w') as file:\n",
    "    for category, expense in expenses.items():\n",
    "        file.write(f\"{category}: ${expense:.2f}\\n\")\n",
    "\n",
    "print(f\"Expense data has been saved to {file_name}.\")"
   ]
  },
  {
   "cell_type": "markdown",
   "id": "45a8f2d8",
   "metadata": {},
   "source": [
    "## 6 Ex."
   ]
  },
  {
   "cell_type": "code",
   "execution_count": 2,
   "id": "c7b3a072",
   "metadata": {},
   "outputs": [
    {
     "name": "stdout",
     "output_type": "stream",
     "text": [
      "Numbers greater than 25: [30, 40, 50]\n"
     ]
    }
   ],
   "source": [
    "def numbers_greater_than_n(input_list, n):\n",
    "    # Initialize an empty list to store the numbers greater than n\n",
    "    result = []\n",
    "\n",
    "    # Iterate through the elements in the input list\n",
    "    for num in input_list:\n",
    "        if num > n:\n",
    "            result.append(num)\n",
    "\n",
    "    # Display the numbers greater than n\n",
    "    if result:\n",
    "        print(f\"Numbers greater than {n}: {result}\")\n",
    "    else:\n",
    "        print(f\"No numbers in the list are greater than {n}\")\n",
    "\n",
    "# Example usage:\n",
    "my_list = [10, 20, 30, 40, 50]\n",
    "number_to_compare = 25\n",
    "numbers_greater_than_n(my_list, number_to_compare)\n"
   ]
  },
  {
   "cell_type": "markdown",
   "id": "fd2ad068",
   "metadata": {},
   "source": [
    "## 10 Ex."
   ]
  },
  {
   "cell_type": "code",
   "execution_count": 6,
   "id": "3a74575f",
   "metadata": {},
   "outputs": [
    {
     "name": "stdout",
     "output_type": "stream",
     "text": [
      "Enter the name of a team: Pittsburgh Pirates \n",
      "Error: 'WorldSeriesWinners.txt' file not found.\n"
     ]
    }
   ],
   "source": [
    "# Function to count the number of times a team has won the World Series\n",
    "def count_world_series_wins(team_name):\n",
    "    try:\n",
    "        # Open the file for reading\n",
    "        with open('WorldSeriesWinners.txt', 'r') as file:\n",
    "            lines = file.read().splitlines()\n",
    "\n",
    "        # Count the number of times the team appears in the list\n",
    "        team_count = lines.count(team_name)\n",
    "\n",
    "        return team_count\n",
    "    except FileNotFoundError:\n",
    "        return -1  # Return -1 if the file is not found\n",
    "\n",
    "def main():\n",
    "    # Get the team name from the user\n",
    "    team_name = input(\"Enter the name of a team: \")\n",
    "\n",
    "    # Convert the team name to uppercase for case-insensitive search\n",
    "    team_name = team_name.upper()\n",
    "\n",
    "    # Call the function to count the team's World Series wins\n",
    "    wins = count_world_series_wins(team_name)\n",
    "\n",
    "    if wins == -1:\n",
    "        print(\"Error: 'WorldSeriesWinners.txt' file not found.\")\n",
    "    else:\n",
    "        print(f\"The {team_name} won the World Series {wins} times between 1903 and 2009.\")\n",
    "\n",
    "if __name__ == \"__main__\":\n",
    "    main()"
   ]
  },
  {
   "cell_type": "code",
   "execution_count": null,
   "id": "200e73bc",
   "metadata": {},
   "outputs": [],
   "source": []
  },
  {
   "cell_type": "code",
   "execution_count": null,
   "id": "1baee442",
   "metadata": {},
   "outputs": [],
   "source": []
  }
 ],
 "metadata": {
  "kernelspec": {
   "display_name": "Python 3 (ipykernel)",
   "language": "python",
   "name": "python3"
  },
  "language_info": {
   "codemirror_mode": {
    "name": "ipython",
    "version": 3
   },
   "file_extension": ".py",
   "mimetype": "text/x-python",
   "name": "python",
   "nbconvert_exporter": "python",
   "pygments_lexer": "ipython3",
   "version": "3.11.4"
  }
 },
 "nbformat": 4,
 "nbformat_minor": 5
}
